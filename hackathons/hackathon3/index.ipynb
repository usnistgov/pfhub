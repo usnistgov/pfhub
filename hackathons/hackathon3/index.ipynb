{
 "cells": [
  {
   "cell_type": "code",
   "execution_count": 1,
   "metadata": {},
   "outputs": [
    {
     "data": {
      "text/html": [
       "<script>\n",
       "code_show=true; \n",
       "function code_toggle() {\n",
       " if (code_show){\n",
       " $('div.input').hide();\n",
       " $('div.prompt').hide();\n",
       " } else {\n",
       " $('div.input').show();\n",
       "$('div.prompt').show();\n",
       " }\n",
       " code_show = !code_show\n",
       "} \n",
       "$( document ).ready(code_toggle);\n",
       "</script>\n",
       "<form action=\"javascript:code_toggle()\"><input type=\"submit\" value=\"Code Toggle\"></form>"
      ],
      "text/plain": [
       "<IPython.core.display.HTML object>"
      ]
     },
     "execution_count": 1,
     "metadata": {},
     "output_type": "execute_result"
    }
   ],
   "source": [
    "from IPython.display import HTML\n",
    "\n",
    "HTML('''<script>\n",
    "code_show=true; \n",
    "function code_toggle() {\n",
    " if (code_show){\n",
    " $('div.input').hide();\n",
    " $('div.prompt').hide();\n",
    " } else {\n",
    " $('div.input').show();\n",
    "$('div.prompt').show();\n",
    " }\n",
    " code_show = !code_show\n",
    "} \n",
    "$( document ).ready(code_toggle);\n",
    "</script>\n",
    "<form action=\"javascript:code_toggle()\"><input type=\"submit\" value=\"Code Toggle\"></form>''')"
   ]
  },
  {
   "cell_type": "markdown",
   "metadata": {
    "slideshow": {
     "slide_type": "slide"
    }
   },
   "source": [
    "# Hackathon 3\n",
    "\n",
    "** January 18-20, 2017 &ndash; Northwestern University **\n",
    "\n",
    "<img src=\"../../../images/Phase-Field-IV-JAN2017.JPG\" alt=\"\">\n",
    "\n",
    "## Install-A-Thon\n",
    "\n",
    "We’ll be having an Install-A-Thon (January 18), an eight-hour block in which a each person/group will go through the process of installing another group’s phase field software.  If you successfully manage to install the software, you will be asked to use it to attempt to simulate a simple phase field problem. Note that the purpose of the exercise is just to see what is entailed in downloading, installing, and trying to use the code – whether you manage to finish the simulation or not is not so important. The next day, each group will report on their experiences, in terms of ease or difficulty, platform compatibility, available documentation, installation of library dependencies, learning curve to using the software, etc. Please add links to data, images and code in the Etherpad below.\n",
    "\n",
    "### Install-A-Thon Results\n",
    "\n",
    "<span data-proofer-ignore>[The results of the Install-A-Thon on Survey Monkey (possible broken link)](https://www.surveymonkey.com/results/SM-JL53QD23/)</span>\n",
    " \n",
    "## Benchmark Presentations\n",
    "\n",
    "We will have a section in which each group presents their results using the first set of benchmark problems (January 19) on spinodal decomposition and Ostwald ripening (see the website, {{ site.baseurl }}, and the paper, http://dx.doi.org/10.1016/j.commatsci.2016.09.022, for more information).  Please include as much metadata as possible, such as the computing platform, maximum memory usage, and runtime to whatever time you choose to halt the simulation (please include details regarding that criterion).  Please generate microstructure images at the specified times and total free energy plots for most (hopefully all) of the computational domains and boundary conditions.  We would like you to contribute your simulation data, input files, and results to ChiMaD website.  We encourage you to brainstorm ways of using the benchmark problems that are unique to your own software and present that information if so. Please place data, images and code in a repository and add the link to the Etherpad below. Please add presentation slides to [Slideshare](http://www.slideshare.net) or [Speakerdeck](https://speakerdeck.com) and add the link in the Etherpad.\n",
    "\n",
    "## Method of Manufactured Solutions Tutorial\n",
    "\n",
    " The workshop will end with a tutorial and a training section on using the Method of Manufactured Solutions (MMS) (January 20), where the attendees will have a chance to try their – or anybody else’s – software on an MMS problem.\n",
    "\n",
    "## Etherpad \n",
    "\n",
    "Please add links to any repositories in the Etherpad below – `https://etherpad.net/p/chimad-phase-field-hackathon-3` (This is now a dead link)"
   ]
  },
  {
   "cell_type": "code",
   "execution_count": 2,
   "metadata": {},
   "outputs": [
    {
     "data": {
      "text/html": [
       "\n",
       "        <iframe\n",
       "            width=\"700\"\n",
       "            height=\"800\"\n",
       "            src=\"https://etherpad.net/p/chimad-phase-field-hackathon-3?showControls=true&showChat=true&showLineNumbers=true&useMonospaceFont=false\"\n",
       "            frameborder=\"0\"\n",
       "            allowfullscreen\n",
       "        ></iframe>\n",
       "        "
      ],
      "text/plain": [
       "<IPython.lib.display.IFrame at 0x7f142fffe860>"
      ]
     },
     "execution_count": 2,
     "metadata": {},
     "output_type": "execute_result"
    }
   ],
   "source": [
    "from IPython.display import IFrame\n",
    "\n",
    "IFrame(\"https://etherpad.net/p/chimad-phase-field-hackathon-3?showControls=true&showChat=true&showLineNumbers=true&useMonospaceFont=false\",\n",
    "       width=700, height=800)"
   ]
  },
  {
   "cell_type": "code",
   "execution_count": null,
   "metadata": {
    "collapsed": true
   },
   "outputs": [],
   "source": []
  }
 ],
 "metadata": {
  "anaconda-cloud": {},
  "kernelspec": {
   "display_name": "Python 3",
   "language": "python",
   "name": "python3"
  },
  "language_info": {
   "codemirror_mode": {
    "name": "ipython",
    "version": 3
   },
   "file_extension": ".py",
   "mimetype": "text/x-python",
   "name": "python",
   "nbconvert_exporter": "python",
   "pygments_lexer": "ipython3",
   "version": "3.6.4"
  }
 },
 "nbformat": 4,
 "nbformat_minor": 1
}
