{
 "cells": [
  {
   "cell_type": "code",
   "execution_count": 2,
   "metadata": {},
   "outputs": [
    {
     "data": {
      "text/html": [
       "<script>\n",
       "code_show=true; \n",
       "function code_toggle() {\n",
       " if (code_show){\n",
       " $('div.input').hide();\n",
       " $('div.prompt').hide();\n",
       " } else {\n",
       " $('div.input').show();\n",
       "$('div.prompt').show();\n",
       " }\n",
       " code_show = !code_show\n",
       "} \n",
       "$( document ).ready(code_toggle);\n",
       "</script>\n",
       "<form action=\"javascript:code_toggle()\"><input type=\"submit\" value=\"Code Toggle\"></form>"
      ],
      "text/plain": [
       "<IPython.core.display.HTML object>"
      ]
     },
     "execution_count": 2,
     "metadata": {},
     "output_type": "execute_result"
    }
   ],
   "source": [
    "from IPython.display import HTML\n",
    "\n",
    "HTML('''<script>\n",
    "code_show=true; \n",
    "function code_toggle() {\n",
    " if (code_show){\n",
    " $('div.input').hide();\n",
    " $('div.prompt').hide();\n",
    " } else {\n",
    " $('div.input').show();\n",
    "$('div.prompt').show();\n",
    " }\n",
    " code_show = !code_show\n",
    "} \n",
    "$( document ).ready(code_toggle);\n",
    "</script>\n",
    "<form action=\"javascript:code_toggle()\"><input type=\"submit\" value=\"Code Toggle\"></form>''')"
   ]
  },
  {
   "cell_type": "code",
   "execution_count": 1,
   "metadata": {},
   "outputs": [
    {
     "data": {
      "text/html": [
       "\n",
       "<a href=\"{{ site.links.github }}/raw/master/benchmarks/benchmark3.ipynb\"\n",
       "   download=\"benchmark3.ipynb\">\n",
       "<button type=\"submit\">Download Notebook</button>\n",
       "</a>"
      ],
      "text/plain": [
       "<IPython.core.display.HTML object>"
      ]
     },
     "execution_count": 1,
     "metadata": {},
     "output_type": "execute_result"
    }
   ],
   "source": [
    "from IPython.display import HTML\n",
    "\n",
    "HTML('''\n",
    "<a href=\"{{ site.links.github }}/raw/master/benchmarks/benchmark3.ipynb\"\n",
    "   download=\"benchmark3.ipynb\">\n",
    "<button type=\"submit\">Download Notebook</button>\n",
    "</a>''')"
   ]
  },
  {
   "cell_type": "markdown",
   "metadata": {},
   "source": [
    "# Benchmark Problem 3: Dendritic Growth"
   ]
  },
  {
   "cell_type": "code",
   "execution_count": 4,
   "metadata": {},
   "outputs": [
    {
     "data": {
      "text/html": [
       "{% include jupyter_benchmark_table.html num=\"[3]\" revision=1 %}"
      ],
      "text/plain": [
       "<IPython.core.display.HTML object>"
      ]
     },
     "execution_count": 4,
     "metadata": {},
     "output_type": "execute_result"
    }
   ],
   "source": [
    "from IPython.display import HTML\n",
    "\n",
    "HTML('''{% include jupyter_benchmark_table.html num=\"[3]\" revision=1 %}''')"
   ]
  },
  {
   "cell_type": "markdown",
   "metadata": {},
   "source": [
    "See the journal publication entitled [\"Phase Field Benchmark Problems for Dendritic Growth and Linear Elasticity\"][benchmark-paper] for more details about the benchmark problems. Furthermore, read [the extended essay][benchmarks] for a discussion about the need for benchmark problems.\n",
    "\n",
    "[benchmarks]: ../\n",
    "[benchmark-paper]: https://doi.org/10.1016/j.commatsci.2018.03.015"
   ]
  },
  {
   "cell_type": "markdown",
   "metadata": {},
   "source": [
    "## Overview\n",
    "\n",
    "Dendritic growth simulations are useful as benchmark problems being highly sensitive to both the phase field model formulation and the particular numerical implementation employed (see, for example,\n",
    "[[1][karma1998quantitative], [2][warren1995prediction]]). Historically, dendritic growth was one of the first applications of phase field modeling [[3][Fix], [4][Langer]], and remains a significant area of research today.  Previous analyses of both the sharp [[4][Langer], [5][collins1985diffuse], [6][kobayashi1993modeling], [7][mcfadden1993phase], [8][wang1993thermodynamically]] and thin interface limits [[10][karma1996phase], [1][karma1998quantitative], [11][mcfadden2000thin], [12][karma2001phase]] have demonstrated that the diffuse-interface phase field formulation is asymptotically equivalent to the sharp-interface Stefan formulation. In 2001, the introduction of an \"anti-trapping current\" to correct for solute trapping due to the jump in chemical potential at the solid/liquid interface [[13][karma2001phase], [14][echebarria2004quantitative]] facilitated quantitative phase field modeling of alloy solidification using unphysically large diffuse interface widths.  Today, massive increases in computing power and the advent of scientific computing on graphical processing units enable large-scale, quantitative 3D phase field simulations of growing dendrites (see, for example, [[15][hotzer2015large], [16][shibuta2015solidification]] and reviews [<span data-proofer-ignore><a href=\"https://doi.org/10.2355/isijinternational.54.437\">17</a></span>, [18][granasy2014phase]]).\n",
    "\n",
    "[karma1998quantitative]: https://doi.org/10.1103/PhysRevE.57.4323\n",
    "[warren1995prediction]: https://doi.org/10.1016/0956-7151(94)00285-P\n",
    "[Fix]: https://doi.org/10.1007/978-3-0348-7893-7\n",
    "[Langer]: https://doi.org/10.1142/9789814415309_0005\n",
    "[collins1985diffuse]: https://doi.org/10.1103/PhysRevB.31.6119\n",
    "[kobayashi1993modeling]: https://doi.org/10.1016/0167-2789(93)90120-P\n",
    "[mcfadden1993phase]: https://doi.org/10.1103/PhysRevE.48.2016\n",
    "[wang1993thermodynamically]: https://doi.org/10.1016/0167-2789(93)90189-8\n",
    "[karma1996phase]: https://doi.org/10.1103/PhysRevE.53.R3017\n",
    "[karma1998quantitative]: https://doi.org/10.1103/PhysRevE.57.4323\n",
    "[mcfadden2000thin]: https://doi.org/10.1016/S0167-2789(00)00064-6\n",
    "[karma2001phase]: https://doi.org/10.1103/PhysRevLett.87.115701\n",
    "[echebarria2004quantitative]: https://doi.org/10.1103/PhysRevE.70.061604\n",
    "[hotzer2015large]: https://doi.org/10.1016/j.actamat.2015.03.051\n",
    "[shibuta2015solidification]: https://doi.org/10.1007/s11837-015-1452-2\n",
    "[takaki2014phase]: https://doi.org/10.2355/isijinternational.54.437\n",
    "[granasy2014phase]: https://doi.org/10.1007/s11661-013-1988-0\n"
   ]
  },
  {
   "cell_type": "markdown",
   "metadata": {},
   "source": [
    "## Model Formulation\n",
    "\n",
    "In this formulation, one order parameter, $\\phi$, and one additional field variable, $U$, are evolved.  The phase of the material is described by $\\phi$, which takes a value of -1 in the liquid and +1 in the solid.  In addition, the nondimensionalized temperature is indicated by $U$, \n",
    "\\begin{equation}\n",
    "U=\\frac{T-T_m}{L/c_p},\n",
    "\\end{equation}\n",
    "where $T$ is the local temperature, $T_m$ is the melting temperature, $L$ is the latent heat of fusion, and $c_p$ is the specific heat at constant pressure, such that $U=0$ is the nondimensionalized melting temperature (note that, for this particular problem, we do not need to supply values for $T_m$, $L$, and $c_p$). The free energy of the system, $\\mathcal{F}$, is expressed as [[1][karma1998quantitative]]\n",
    "\n",
    "$$\n",
    "\\mathcal{F}=\\int_{V}\\left[\\frac{1}{2} \\left[W(\\textbf{n})\\right]^2|\\nabla \\phi|^2+f_{chem}(\\phi,U)\\right]\\,dV\n",
    "$$\n",
    "\n",
    "where $\\left[W(\\textbf{n})\\right]^2$ is the gradient energy coefficient, $\\textbf{n}\\equiv \\frac{\\nabla\\phi}{|\\nabla\\phi|}$ is the normal direction to the interface, and $f_{chem}$ is the chemical free energy density.  In this formulation, $f_{chem}$ is a double-well potential with a simple polynomial formulation [[1][karma1998quantitative]],\n",
    "\n",
    "$$\n",
    "f_{chem}=-\\frac{1}{2}\\phi^2+\\frac{1}{4}\\phi^4\n",
    "+\\lambda U\\phi\\left[1-\\frac{2}{3}\\phi^2+\\frac{1}{5}\\phi^4\\right],\n",
    "$$\n",
    "\n",
    "where $\\lambda$ is a dimensionless coupling constant.  The interface thickness and directional anisotropy are controlled by $W(\\textbf{n})$, which takes the form $W(\\textbf{n})=W_0a(\\textbf{n})$ in two dimensions. We use a simple form for $a(\\textbf{n})$ to reflect in-plane symmetry [[1][karma1998quantitative]],\n",
    "\n",
    "\\begin{equation}\n",
    "a(\\textbf{n})=1+\\epsilon_m\\cos \\left[m(\\theta-\\theta_0) \\right],\n",
    "\\end{equation}\n",
    "\n",
    "where $m$ is a non-negative integer and $\\theta$ is the in-plane azimuthal angle, $\\tan\\theta=n_y/n_x$; $\\theta_0$ is an offset azimuthal angle that specifies the misorientation of the crystalline lattice relative to the laboratory frame of reference (in this case, the $x$-axis in the simulation coordinate system). We take \n",
    "\n",
    "\\begin{equation}\n",
    "\\lambda=\\frac{D\\tau_0}{0.6267W_0^2}\n",
    "\\end{equation}\n",
    "\n",
    "because this choice gives quantitative agreement in the so-called ``thin interface limit'' with sharp interface models of dendritic growth in the limit of vanishing interface kinetics [[1][karma1998quantitative]]. \n",
    "\n",
    "The time scale for the evolution of $\\phi$ and $U$ are similar, so both must be described with time-dependent equations.  The evolution of $\\phi$, a non-conserved quantity, is governed by the Allen-Cahn equation [[1][karma1998quantitative]],\n",
    "\n",
    "\\begin{equation}\n",
    "\\tau(\\textbf{n})\\frac{\\partial\\phi}{\\partial t} = -\\frac{\\delta \\mathcal{F}}{\\delta \\phi},\n",
    "\\end{equation}\n",
    "\n",
    "where the kinetic coefficient $\\tau(\\textbf{n})=\\tau_0\\left[a(\\textbf{n})\\right]^2$. The functional derivative is given as [[1][karma1998quantitative]]\n",
    "\n",
    "\\begin{eqnarray}\n",
    "\\tau(\\textbf{n})\\frac{\\partial\\phi}{\\partial t} & = & \\left[\\phi-\\lambda U\\left(1-\\phi^2\\right)\\right]\\left(1-\\phi^2\\right)+\\nabla\\cdot\\left( \\left[W(\\textbf{n})\\right]^2\\nabla\\phi\\right)\\nonumber\\\\\n",
    "&&+\\frac{\\partial}{\\partial x}\\left[|\\nabla\\phi|^2W(\\textbf{n})\\frac{\\partial W(\\textbf{n})}{\\partial \\left(\\frac{\\partial\\phi}{\\partial x}\\right)}\\right]\n",
    "+\\frac{\\partial}{\\partial y}\\left[|\\nabla\\phi|^2W(\\textbf{n})\\frac{\\partial W(\\textbf{n})}{\\partial \\left(\\frac{\\partial\\phi}{\\partial y}\\right)}\\right] \n",
    "\\end{eqnarray}\n",
    "\n",
    "for two dimensions.  We remind the reader that although  $a(\\textbf{n})$, $W(\\textbf{n})$ and $\\tau(\\textbf{n})$ have a vectorial argument, they are scalar quantities. Furthermore, the time evolution of $U$ is governed by thermal diffusion and the release of latent heat at the interface during solidification [[1][karma1998quantitative]],\n",
    "\n",
    "\\begin{equation}\n",
    "\\frac{\\partial U}{\\partial t} = D\\nabla^2U+\\frac{1}{2}\\frac{\\partial \\phi}{\\partial t}\n",
    "\\end{equation}\n",
    "\n",
    "where $D$ is a thermal diffusion constant.\n",
    "\n",
    "[karma1998quantitative]: https://doi.org/10.1103/PhysRevE.57.4323"
   ]
  },
  {
   "cell_type": "markdown",
   "metadata": {},
   "source": [
    "## Parameterization and simulation conditions\n",
    "\n",
    "This section presents the specific details for the solidification and dendritic growth benchmark problem, including the model parameterization, initial conditions, boundary conditions, and computational domain size. The model is parameterized with dimensionless units, see the table below. While the diffuse interface width depends on orientation, it varies between four and five units, where the width is defined as the distance over which $-0.9 < \\phi < 0.9$. The benchmark problem is formulated for two dimensions.  To further reduce computational cost, we simulate one-quarter of a growing dendrite, as is commonly done in earlier works (e.g., Ref. [[1][karma1998quantitative], [2][warren1995prediction]]). One-quarter of a solid seed with a radius of eight units (with the position of the interface defined as $\\phi=0$) and a diffuse interface width of one unit is placed in the lower-left corner of the computational domain, surrounded by liquid.  Initially, the entire system is uniformly undercooled with $U \\left(t=0\\right)=\\Delta$.  This undercooling is chosen to challenge numerical solvers somewhat because it increases the thermal diffusion length and requires a larger computational domain size relative to more negative undercoolings.  We select a square computational domain of $(960 \\textrm{ units})^2$, which is two times longer than the long dimension used in Ref. [[1][karma1998quantitative]] for the same model parameterization. No-flux boundary conditions are chosen for $\\phi$ and $U$ on all domain boundaries.\n",
    "\n",
    "\n",
    "| Quantity                  | Symbol       | Value |\n",
    "|:--------------------------|:-------------|:------|\n",
    "| Interface thickness       | $W_0$        | 1     |\n",
    "| Rotational symmetry order | $m$          | 4     |  \n",
    "| Anisotropy strength       | $\\epsilon_4$ | 0.05  |\n",
    "| Offset angle              | $\\theta_0$   | 0     |\n",
    "| Relaxation time           | $\\tau_0$     | 1     |\n",
    "| Diffusion coefficient     | $D$          | 10    |\n",
    "| Undercooling              | $\\Delta$     | -0.3  |\n",
    "\n",
    "[karma1998quantitative]: https://doi.org/10.1103/PhysRevE.57.4323\n",
    "[warren1995prediction]: https://doi.org/10.1016/0956-7151(94)00285-P"
   ]
  },
  {
   "cell_type": "markdown",
   "metadata": {},
   "source": [
    "## Example Result at $t=1500$\n",
    "\n",
    "![dendrite](../../images/dendrite.png)"
   ]
  },
  {
   "cell_type": "markdown",
   "metadata": {},
   "source": [
    "## Submission Guidelines\n",
    "\n",
    "All solutions should be run to at least $t=1500$. The following data should be recorded as frequently as possible.\n",
    "\n",
    " - The solid fraction in the domain (the integral of $\\int_V \\frac{\\phi + 1}{2} \\operatorname{d}V$)\n",
    " \n",
    " - The free energy, $\\mathcal{F}$\n",
    " \n",
    " - The estimated tip position versus time (the position of the $\\phi=0$ contour line cutting either the $x=0$ or $y=0$ lines)\n",
    " \n",
    "These three values should be recorded in a file named `timeseries_3.csv`. This plain-text CSV file ([comma-separated values](https://en.wikipedia.org/wiki/Comma-separated_values)) must have the following format -- note the column headings and lack of spaces,\n",
    "  and that there is no requirement to fix the number of digits for each column or row.\n",
    "\n",
    "  ```\n",
    "  time,solid_fraction,free_energy,tip_position\n",
    "  0.0,5.47e-5,2142078.02,7.9872\n",
    "  50.00000001,0.00050023,2110276.50112,26.4273\n",
    "  ...\n",
    "  1500,0.01872,1976882.3003,288.58\n",
    "  ```\n",
    "\n",
    "In addition, the phase-field zero-level set contour at time $t=1500$ is required. The data should be named as `phase_field_1500.csv` and include just two columns: one for each coordinate, $x$ and $y$, along the contour where $\\phi = 0$. The contour data should be in a sequence that enables an ordered traversal of the contour line. For example,\n",
    "\n",
    "  ```\n",
    "  x,y\n",
    "  7.625,0.0\n",
    "  7.601,0.05\n",
    "  ...\n",
    "  0.0,7.642\n",
    "  ```\n",
    "\n",
    "Finally, please provide a full snapshot of the fields at each grid point in the domain at the following times (aspirational):\n",
    "  - 100\n",
    "  - 500\n",
    "  - 1,000\n",
    "  - 1,500\n",
    "\n",
    "  You may provide this data in whatever format you consider \"most useful,\" e.g. a checkpoint file in the format native to your phase-field simulation framework, and the PFHub operations team will attempt to handle it correctly.\n",
    "  Optionally, please consider also uploading a VTK ImageData file. If your mesh is unstructured or irregular, this will require appropriate interpolation prior to export. This can be accomplished using common scientific visualization software, e.g. using the PointVolumeInterpolator filter in ParaView.<sup>&#8225;</sup>\n",
    "\n",
    "  The names of these data files should encode the time and problem, e.g.,\n",
    "  `raw_data_3.0100.vti`, `raw_data_3.0500.vti`, `raw_data_3.1000.vti`, and `raw_data_3.1500.vti`.\n",
    "\n",
    "Please follow these [upload instructions](https://github.com/usnistgov/pfhub/blob/master/upload.md).\n",
    "\n",
    "In addition to that specified, further data to upload can include a YouTube video, snapshots of the simulation at different times, or the field variable at each point in the entire domain at different times. This auxiliary data is not required, but will help others view your work.\n",
    "\n",
    "\n",
    "<sup>&#8225;</sup>: Any mention of commercial products within NIST web pages is for information only; it does not imply recommendation or endorsement by NIST."
   ]
  },
  {
   "cell_type": "markdown",
   "metadata": {},
   "source": [
    "## Results\n",
    "\n",
    "Results from this benchmark problem are displayed on the [simulation result page]({{ site.baseurl }}/simulations/3a.1) for different codes."
   ]
  },
  {
   "cell_type": "code",
   "execution_count": null,
   "metadata": {},
   "outputs": [],
   "source": []
  }
 ],
 "metadata": {
  "anaconda-cloud": {},
  "kernelspec": {
   "display_name": "Python 3 (ipykernel)",
   "language": "python",
   "name": "python3"
  },
  "language_info": {
   "codemirror_mode": {
    "name": "ipython",
    "version": 3
   },
   "file_extension": ".py",
   "mimetype": "text/x-python",
   "name": "python",
   "nbconvert_exporter": "python",
   "pygments_lexer": "ipython3",
   "version": "3.9.17"
  }
 },
 "nbformat": 4,
 "nbformat_minor": 4
}
