{
 "cells": [
  {
   "cell_type": "code",
   "execution_count": 1,
   "metadata": {},
   "outputs": [
    {
     "data": {
      "application/javascript": [
       "    MathJax.Hub.Config({\n",
       "      TeX: { equationNumbers: { autoNumber: \"AMS\" } }\n",
       "    });"
      ],
      "text/plain": [
       "<IPython.core.display.Javascript object>"
      ]
     },
     "metadata": {},
     "output_type": "display_data"
    }
   ],
   "source": [
    "%%javascript\n",
    "    MathJax.Hub.Config({\n",
    "      TeX: { equationNumbers: { autoNumber: \"AMS\" } }\n",
    "    });"
   ]
  },
  {
   "cell_type": "code",
   "execution_count": 2,
   "metadata": {},
   "outputs": [
    {
     "data": {
      "text/html": [
       "<script>\n",
       "code_show=true; \n",
       "function code_toggle() {\n",
       " if (code_show){\n",
       " $('div.input').hide();\n",
       " $('div.prompt').hide();\n",
       " } else {\n",
       " $('div.input').show();\n",
       "$('div.prompt').show();\n",
       " }\n",
       " code_show = !code_show\n",
       "} \n",
       "$( document ).ready(code_toggle);\n",
       "</script>\n",
       "<form action=\"javascript:code_toggle()\"><input type=\"submit\" value=\"Code Toggle\"></form>"
      ],
      "text/plain": [
       "<IPython.core.display.HTML object>"
      ]
     },
     "execution_count": 2,
     "metadata": {},
     "output_type": "execute_result"
    }
   ],
   "source": [
    "from IPython.display import HTML\n",
    "\n",
    "HTML('''<script>\n",
    "code_show=true; \n",
    "function code_toggle() {\n",
    " if (code_show){\n",
    " $('div.input').hide();\n",
    " $('div.prompt').hide();\n",
    " } else {\n",
    " $('div.input').show();\n",
    "$('div.prompt').show();\n",
    " }\n",
    " code_show = !code_show\n",
    "} \n",
    "$( document ).ready(code_toggle);\n",
    "</script>\n",
    "<form action=\"javascript:code_toggle()\"><input type=\"submit\" value=\"Code Toggle\"></form>''')"
   ]
  },
  {
   "cell_type": "code",
   "execution_count": 3,
   "metadata": {},
   "outputs": [
    {
     "data": {
      "text/html": [
       "\n",
       "<a href=\"https://github.com/usnistgov/pfhub/raw/master/benchmarks/benchmark7.ipynb\"\n",
       "   download>\n",
       "<button type=\"submit\">Download Notebook</button>\n",
       "</a>\n"
      ],
      "text/plain": [
       "<IPython.core.display.HTML object>"
      ]
     },
     "execution_count": 3,
     "metadata": {},
     "output_type": "execute_result"
    }
   ],
   "source": [
    "from IPython.display import HTML\n",
    "\n",
    "HTML('''\n",
    "<a href=\"https://github.com/usnistgov/pfhub/raw/master/benchmarks/benchmark7.ipynb\"\n",
    "   download>\n",
    "<button type=\"submit\">Download Notebook</button>\n",
    "</a>\n",
    "''')"
   ]
  },
  {
   "cell_type": "markdown",
   "metadata": {},
   "source": [
    "# Benchmark Problem 7: MMS Allen-Cahn"
   ]
  },
  {
   "cell_type": "code",
   "execution_count": 1,
   "metadata": {},
   "outputs": [
    {
     "data": {
      "text/html": [
       "{% include jupyter_benchmark_table.html num=\"[7]\" revision=0 %}"
      ],
      "text/plain": [
       "<IPython.core.display.HTML object>"
      ]
     },
     "execution_count": 1,
     "metadata": {},
     "output_type": "execute_result"
    }
   ],
   "source": [
    "from IPython.display import HTML\n",
    "\n",
    "HTML('''{% include jupyter_benchmark_table.html num=\"[7]\" revision=0 %}''')"
   ]
  },
  {
   "cell_type": "markdown",
   "metadata": {
    "toc": true
   },
   "source": [
    "<h4>Table of Contents<span class=\"tocSkip\"></span></h4>\n",
    "\n",
    "<div class=\"toc\"><ul class=\"toc-item\"><li><span><a href=\"#Benchmark-Problem-7:-MMS-Allen-Cahn\" data-toc-modified-id=\"Benchmark-Problem-7:-MMS-Allen-Cahn-1\"><span class=\"toc-item-num\">1&nbsp;&nbsp;</span>Benchmark Problem 7: MMS Allen-Cahn</a></span></li><li><span><a href=\"#Overview\" data-toc-modified-id=\"Overview-2\"><span class=\"toc-item-num\">2&nbsp;&nbsp;</span>Overview</a></span></li><li><span><a href=\"#Governing-equation-and-manufactured-solution\" data-toc-modified-id=\"Governing-equation-and-manufactured-solution-3\"><span class=\"toc-item-num\">3&nbsp;&nbsp;</span>Governing equation and manufactured solution</a></span></li><li><span><a href=\"#Domain-geometry,-boundary-conditions,-initial-conditions,-and-stopping-condition\" data-toc-modified-id=\"Domain-geometry,-boundary-conditions,-initial-conditions,-and-stopping-condition-4\"><span class=\"toc-item-num\">4&nbsp;&nbsp;</span>Domain geometry, boundary conditions, initial conditions, and stopping condition</a></span></li><li><span><a href=\"#Parameter-values\" data-toc-modified-id=\"Parameter-values-5\"><span class=\"toc-item-num\">5&nbsp;&nbsp;</span>Parameter values</a></span></li><li><span><a href=\"#Benchmark-simulation-instructions\" data-toc-modified-id=\"Benchmark-simulation-instructions-6\"><span class=\"toc-item-num\">6&nbsp;&nbsp;</span>Benchmark simulation instructions</a></span><ul class=\"toc-item\"><li><span><a href=\"#Part-(a)\" data-toc-modified-id=\"Part-(a)-6.1\"><span class=\"toc-item-num\">6.1&nbsp;&nbsp;</span>Part (a)</a></span></li><li><span><a href=\"#Part-(b)\" data-toc-modified-id=\"Part-(b)-6.2\"><span class=\"toc-item-num\">6.2&nbsp;&nbsp;</span>Part (b)</a></span></li><li><span><a href=\"#Part-(c)\" data-toc-modified-id=\"Part-(c)-6.3\"><span class=\"toc-item-num\">6.3&nbsp;&nbsp;</span>Part (c)</a></span></li></ul></li><li><span><a href=\"#Submission-Guidelines\" data-toc-modified-id=\"Submission-Guidelines-7\"><span class=\"toc-item-num\">7&nbsp;&nbsp;</span>Submission Guidelines</a></span><ul class=\"toc-item\"><li><span><a href=\"#Part-(a)-Guidelines\" data-toc-modified-id=\"Part-(a)-Guidelines-7.1\"><span class=\"toc-item-num\">7.1&nbsp;&nbsp;</span>Part (a) Guidelines</a></span></li><li><span><a href=\"#Parts-(b)-and-(c)-Guidelines\" data-toc-modified-id=\"Parts-(b)-and-(c)-Guidelines-7.2\"><span class=\"toc-item-num\">7.2&nbsp;&nbsp;</span>Parts (b) and (c) Guidelines</a></span></li></ul></li><li><span><a href=\"#Results\" data-toc-modified-id=\"Results-8\"><span class=\"toc-item-num\">8&nbsp;&nbsp;</span>Results</a></span></li><li><span><a href=\"#Feedback\" data-toc-modified-id=\"Feedback-9\"><span class=\"toc-item-num\">9&nbsp;&nbsp;</span>Feedback</a></span></li><li><span><a href=\"#Appendix\" data-toc-modified-id=\"Appendix-10\"><span class=\"toc-item-num\">10&nbsp;&nbsp;</span>Appendix</a></span><ul class=\"toc-item\"><li><span><a href=\"#Computer-algebra-systems\" data-toc-modified-id=\"Computer-algebra-systems-10.1\"><span class=\"toc-item-num\">10.1&nbsp;&nbsp;</span>Computer algebra systems</a></span></li><li><span><a href=\"#Source-term\" data-toc-modified-id=\"Source-term-10.2\"><span class=\"toc-item-num\">10.2&nbsp;&nbsp;</span>Source term</a></span></li><li><span><a href=\"#Code\" data-toc-modified-id=\"Code-10.3\"><span class=\"toc-item-num\">10.3&nbsp;&nbsp;</span>Code</a></span><ul class=\"toc-item\"><li><span><a href=\"#Python\" data-toc-modified-id=\"Python-10.3.1\"><span class=\"toc-item-num\">10.3.1&nbsp;&nbsp;</span>Python</a></span></li><li><span><a href=\"#C\" data-toc-modified-id=\"C-10.3.2\"><span class=\"toc-item-num\">10.3.2&nbsp;&nbsp;</span>C</a></span></li><li><span><a href=\"#Fortran\" data-toc-modified-id=\"Fortran-10.3.3\"><span class=\"toc-item-num\">10.3.3&nbsp;&nbsp;</span>Fortran</a></span></li><li><span><a href=\"#Julia\" data-toc-modified-id=\"Julia-10.3.4\"><span class=\"toc-item-num\">10.3.4&nbsp;&nbsp;</span>Julia</a></span></li><li><span><a href=\"#Mathematica\" data-toc-modified-id=\"Mathematica-10.3.5\"><span class=\"toc-item-num\">10.3.5&nbsp;&nbsp;</span>Mathematica</a></span></li><li><span><a href=\"#Matlab\" data-toc-modified-id=\"Matlab-10.3.6\"><span class=\"toc-item-num\">10.3.6&nbsp;&nbsp;</span>Matlab</a></span></li></ul></li></ul></li></ul></div>"
   ]
  },
  {
   "cell_type": "markdown",
   "metadata": {},
   "source": [
    "See the journal publication entitled [\"Benchmark problems for numerical implementations of phase field models\"][benchmark_paper] for more details about the benchmark problems. Furthermore, read [the extended essay][benchmarks] for a discussion about the need for benchmark problems.\n",
    "\n",
    "[benchmarks]: ../\n",
    "[benchmark_paper]: http://doi.org/10.1016/j.commatsci.2016.09.022"
   ]
  },
  {
   "cell_type": "markdown",
   "metadata": {},
   "source": [
    "# Overview"
   ]
  },
  {
   "cell_type": "markdown",
   "metadata": {},
   "source": [
    "The Method of Manufactured Solutions (MMS) is a powerful technique for verifying the accuracy of a simulation code. In the MMS, one picks a desired solution to the problem at the outset, the \"manufactured solution\", and then determines the governing equation that will result in that solution. With the exact analytical form of the solution in hand, when the governing equation is solved using a particular simulation code, the deviation from the expected solution can be determined exactly. This deviation can be converted into an error metric to rigously quantify the error for a calculation. This error can be used to determine the order of accuracy of the simulation results to verify simulation codes. It can also be used to compare the computational efficiency of different codes or different approaches for a particular code at a certain level of error. Furthermore, the spatial/temporal distribution can give insight into the conditions resulting in the largest error (high gradients, changes in mesh resolution, etc.).\n",
    "\n",
    "After choosing a manufactured solution, the governing equation must be modified to force the solution to equal the manufactured solution. This is accomplished by taking the nominal equation that is to be solved (e.g.  Allen-Cahn equation, Cahn-Hilliard equation, Fick's second law, Laplace equation) and adding a source term. This source term is determined by plugging the manufactured solution into the nominal governing equation and setting the source term equal to the residual. Thus, the manufactured solution satisfies the MMS governing equation (the nominal governing equation plus the source term). A more detailed discussion of MMS can be found in [the report by Salari and Knupp][mms_report].\n",
    "\n",
    "In this benchmark problem, the objective is to use the MMS to rigorously verify phase field simulation codes and then provide a basis of comparison for the computational performance between codes and for various settings for a single code, as discussed above. To this end, the benchmark problem was chosen as a balance between two factors: simplicity, to minimize the development effort required to solve the benchmark, and transferability to a real phase field system of physical interest. \n",
    "\n",
    "[mms_report]: http://prod.sandia.gov/techlib/access-control.cgi/2000/001444.pdf"
   ]
  },
  {
   "cell_type": "markdown",
   "metadata": {},
   "source": [
    "# Governing equation and manufactured solution\n",
    "For this benchmark problem, we use a simple Allen-Cahn equation as the governing equation\n",
    "\n",
    "$$\\begin{equation}\n",
    "\\frac{\\partial \\eta}{\\partial t} = - \\left[ 4 \\eta \\left(\\eta - 1 \\right) \\left(\\eta-\\frac{1}{2} \\right) - \\kappa \\nabla^2 \\eta \\right] + S(x,y,t) \n",
    "\\end{equation}$$\n",
    "\n",
    "where $S(x,y,t)$ is the MMS source term and $\\kappa$ is a constant parameter (the gradient energy coefficient). \n",
    "\n",
    "The manufactured solution, $\\eta_{sol}$ is a hyperbolic tangent function, shifted to vary between 0 and 1, with the $x$ position of the middle of the interface ($\\eta_{sol}=0.5$) given by the function $\\alpha(x,t)$:\n",
    "\n",
    "$$\\begin{equation}\n",
    "\\eta_{sol}(x,y,t) = \\frac{1}{2}\\left[ 1 - \\tanh\\left( \\frac{y-\\alpha(x,t)}{\\sqrt{2 \\kappa}} \\right) \\right] \n",
    "\\end{equation}$$\n",
    "\n",
    "$$\\begin{equation}\n",
    "\\alpha(x,t) = \\frac{1}{4} + A_1 t \\sin\\left(B_1 x \\right) + A_2 \\sin \\left(B_2  x + C_2 t \\right)\n",
    "\\end{equation}$$\n",
    "\n",
    "where $A_1$, $B_1$, $A_2$, $B_2$, and $C_2$ are constant parameters. \n",
    "\n",
    "This manufactured solution is an equilbrium solution of the governing equation, when $S(x,y,t)=0$ and $\\alpha(x,t)$ is constant. The closeness of this manufactured solution to a solution of the nominal governing equation increases the likihood that the behavior of simulation codes when solving this benchmark problem is representive of the solution of the regular Allen-Cahn equation (i.e. without the source term). The form of $\\alpha(x,t)$ was chosen to yield complex behavior while still retaining a (somewhat) simple functional form. The two spatial sinusoidal terms introduce two controllable length scales to the interfacial shape. Summing them gives a  \"beat\" pattern with a period longer than the period of either individual term, permitting a domain size that is larger than the wavelength of the sinusoids without a repeating pattern. The temporal sinusoidal term introduces a controllable time scale to the interfacial shape in addition to the phase transformation time scale, while the linear temporal dependence of the other term ensures that the sinusoidal term can go through multiple periods without $\\eta_{sol}$ repeating itself.\n",
    "\n",
    "Inserting the manufactured solution into the governing equation and solving for $S(x,y,t)$ yields:\n",
    "\n",
    "$$\\begin{equation}\n",
    "S(x,y,t) = \\frac{\\text{sech}^2 \\left[ \\frac{y-\\alpha(x,t)}{\\sqrt{2 \\kappa}} \\right]}{4 \\sqrt{\\kappa}} \\left[-2\\sqrt{\\kappa} \\tanh \\left[\\frac{y-\\alpha(x,t)}{\\sqrt{2 \\kappa}} \\right] \\left(\\frac{\\partial \\alpha(x,t)}{\\partial x} \\right)^2+\\sqrt{2} \\left[ \\frac{\\partial \\alpha(x,t)}{\\partial t}-\\kappa \\frac{\\partial^2 \\alpha(x,t)}{\\partial x^2} \\right] \\right]\n",
    "\\end{equation}$$\n",
    "\n",
    "where $\\alpha(x,t)$ is given above and where:\n",
    "\n",
    "$$\\begin{equation}\n",
    "\\frac{\\partial \\alpha(x,t)}{\\partial x} = A_1 B_1 t \\cos\\left(B_1 x\\right) + A_2 B_2 \\cos \\left(B_2  x + C_2 t \\right)\n",
    "\\end{equation}$$\n",
    "\n",
    "$$\\begin{equation}\n",
    "\\frac{\\partial^2 \\alpha(x,t)}{\\partial x^2} = -A_1 B_1^2 t \\sin\\left(B_1 x\\right) - A_2 B_2^2 \\sin \\left(B_2  x + C_2 t \\right)\n",
    "\\end{equation}$$\n",
    "\n",
    "$$\\begin{equation}\n",
    "\\frac{\\partial \\alpha(x,t)}{\\partial t} = A_1 \\sin\\left(B_1 x\\right) + A_2 C_2 \\cos \\left(B_2  x + C_2 t \\right)\n",
    "\\end{equation}$$\n",
    "\n",
    "** *N.B.*: Don't transcribe these equations. Please download the appropriate files from the [Appendix](#Appendix) **."
   ]
  },
  {
   "cell_type": "markdown",
   "metadata": {},
   "source": [
    "# Domain geometry, boundary conditions, initial conditions, and stopping condition\n",
    "The domain geometry is a rectangle that spans [0, 1] in $x$ and [0, 0.5] in $y$. This elongated domain was chosen to allow multiple peaks and valleys in $\\eta_{sol}$ without stretching the interface too much in the $y$ direction (which causes the thickness of the interface to change) or having large regions where $\\eta_{sol}$  never deviates from 0 or 1. Periodic boundary conditions are applied along the $x = 0$ and the $x = 1$ boundaries to accomodate the periodicity of $\\alpha(x,t)$. Dirichlet boundary conditions of $\\eta$ = 1 and $\\eta$ = 0 are applied along the $y = 0$ and the $y = 0.5$ boundaries, respectively. These boundary conditions are chosen to be consistent with $\\eta_{sol}(x,y,t)$. The initial condition is the manufactured solution at $t = 0$:\n",
    "\n",
    "$$\n",
    "\\begin{equation}\n",
    "\\eta_{sol}(x,y,0) = \\frac{1}{2}\\left[ 1 - \\tanh\\left( \\frac{y-\\left(\\frac{1}{4}+A_2 \\sin(B_2 x) \\right)}{\\sqrt{2 \\kappa}} \\right) \\right] \n",
    "\\end{equation}\n",
    "$$\n",
    "\n",
    "The stopping condition for all calculations is when t = 8 time units, which was chosen to let $\\alpha(x,t)$ evolve substantially, while still being slower than the characteristic time for the phase evolution (determined by the CFL condition for a uniform mesh with a reasonable level of resolution of $\\eta_{sol}$)."
   ]
  },
  {
   "cell_type": "markdown",
   "metadata": {},
   "source": [
    "# Parameter values\n",
    "The nominal parameter values for the governing equation and manufactured solution are given below. The value of $\\kappa$ will change in Part (b) in the following section and the values of $\\kappa$ and $C_2$ will change in Part (c).\n",
    "\n",
    "| Parameter | Value |\n",
    "|-----------|-------|\n",
    "| $\\kappa$  | 0.0004|\n",
    "| $A_1$     | 0.0075|\n",
    "| $B_1$     | $8.0 \\pi$  |\n",
    "| $A_2$     | 0.03   |\n",
    "| $B_2$     | $22.0 \\pi$  |\n",
    "| $C_2$     | $0.0625 \\pi$|"
   ]
  },
  {
   "cell_type": "markdown",
   "metadata": {},
   "source": [
    "# Benchmark simulation instructions\n",
    "This section describes three sets of tests to conduct using the MMS problem specified above. The primary purpose of the first test is provide a computationally inexpensive problem to verify a simulation code. The second and third tests are more computationally demanding and are primarily designed to serve as a basis for performance comparisons."
   ]
  },
  {
   "cell_type": "markdown",
   "metadata": {},
   "source": [
    "## Part (a)\n",
    "The objective of this test is to verify the accuracy of your simulation code in both time and space. Here, we make use of convergence tests, where either the mesh size (or grid point spacing) or the time step size is systematically changed to determine the response of the error to these quantities. Once a convergence test is completed the order of accuracy can be calculated from the result. The order of accuracy can be compared to the theoretical order of accuracy for the numerical method employed in the simulation. If the two match (to a reasonable degree), then one can be confident that the simulation code is working as expected. The remainder of this subsection will give instructions for convergence tests for this MMS problem.\n",
    "\n",
    "Implement the MMS problem specified above using the simulation code of your choice. Perform a spatial convergence test by running the simulation for a variety of mesh sizes. For each simulation, determine the discrete $L_2$ norm of the error at $t=8$:\n",
    "\n",
    "$$\\begin{equation}\n",
    "    L_2 = \\sqrt{\\sum\\limits_{x,y}\\left(\\eta^{t=8}_{x,y} - \\eta_{sol}(x,y,8)\\right)^2 \\Delta x \\Delta y}\n",
    "\\end{equation}$$\n",
    "\n",
    "For all of these simulations, verify that the time step is small enough that any temporal error is much smaller that the total error. This can be accomplished by decreasing the time step until it has minimal effect on the error. Ensure that at least three simulation results have $L_2$ errors in the range $[5\\times10^{-3}, 1\\times10^{-4}]$, attempting to cover as much of that range as possible/practical. This maximum and minimum errors in the range roughly represent a poorly resolved simulation and a very well-resolved simulation.\n",
    "\n",
    "Save the effective element size, $h$, and the $L_2$ error for each simulation.\n",
    "[Archive this data](https://github.com/usnistgov/pfhub/issues/491) in a\n",
    "CSV or JSON file, using one column (or key) each for $h$ and $L_2$. \n",
    "Calculate the effective element size as the square root of the area of\n",
    "the finest part of the mesh for nonuniform meshes. For irregular meshes\n",
    "with continuous distributions of element sizes, approximate the effective\n",
    "element size as the average of the square root of the area of the smallest\n",
    "5% of the elements. Then [submit your results on the PFHub website](https://pages.nist.gov/pfhub/simulations/upload_form/) as a 2D data set with the effective mesh size as the x-axis column and the $L_2$ error as the y-axis column.\n",
    "\n",
    "Next, confirm that the observed order of accuracy is approximately equal to the expected value. Calculate the order of accuracy, $p$, with a least squares fit of the following function:\n",
    "\n",
    "$$\\begin{equation}\n",
    "    \\log(E)=p \\log(R) + b\n",
    "\\end{equation}$$\n",
    "\n",
    "where $E$ is the $L_2$ error, $R$ is the effective element size, and b is an intercept. Deviations of ±0.2 or more from the theoretical value are to be expected (depending on the range of errors considered and other factors).\n",
    "\n",
    "Finally, perform a similar convergence test, but for the time step, systematically changing the time step and recording the $L_2$ error. Use a time step that does not vary over the course of any single simulation. Verify that the spatial discretization error is small enough that it does not substantially contribute to the total error. Once again, ensure that at least three simulations have $L_2$ errors in the range $[5\\times10^{-3}, 1\\times10^{-4}]$, attempting to cover as much of that range as possible/practical. [Archive the effective mesh size and $L_2$ error](https://github.com/usnistgov/pfhub/issues/491) for each individual simulation in a CSV or JSON file. [Submit your results to the PFHub website](https://pages.nist.gov/pfhub/simulations/upload_form/) as a 2D data set with the time step size as the x-axis column and the $L_2$ error as the y-axis column. Confirm that the observed order of accuracy is approximately equal to the expected value."
   ]
  },
  {
   "cell_type": "markdown",
   "metadata": {},
   "source": [
    "## Part (b)\n",
    "Now that your code has been verified in (a), the objective of this part is to determine the computational performance of your code at various levels of error. These results can then be used to objectively compare the performance between codes or settings within the same code. To make the problem more computationally demanding and stress solvers more than in (a), decrease $\\kappa$ by a factor of $256$ to $1.5625\\times10^{-6}$. This change will reduce the interfacial thickness by a factor of $16$.\n",
    "\n",
    "Run a series of simulations, attempting to optimize solver parameters (mesh, time step, tolerances, etc.) to minimize the required computational resources for at least three levels of $L_2$ error in range  $[5\\times10^{-3}, 1\\times10^{-5}]$. Use the same CPU and processor type for all simulations. For the best of these simulations, save the wall time (in seconds), number of computing cores, normalized computing cost (wall time in seconds $\\times$ number of cores $\\times$ nominal core speed $/$ 2 GHz), maximum memory usage, and $L_2$ error at $t=8$ for each individual simulation.  [Archive this data](https://github.com/usnistgov/pfhub/issues/491) in a\n",
    "CSV or JSON file with one column (or key) for each of the quantities mentioned above. [Submit your results to the PFHub website](https://pages.nist.gov/pfhub/simulations/upload_form/) as two 2D data sets. For the first data set use the $L_2$ error as the x-axis column and the normalized computational cost as the y-axis column. For the second data set,  use the $L_2$ error as the x-axis column and the wall time as the y-axis column."
   ]
  },
  {
   "cell_type": "markdown",
   "metadata": {},
   "source": [
    "## Part (c)\n",
    "This final part is designed to stress time integrators even further by increasing the rate of change of $\\alpha(x,t)$. Increase $C_2$ to $0.5$. Keep $\\kappa= 1.5625\\times10^{-6}$ from (b).\n",
    "\n",
    "Repeat the process from (b), uploading the wall time, number of computing cores, processor speed, normalized computing cost, maximum memory usage, and $L_2$ error at $t=8$ to the PFHub website."
   ]
  },
  {
   "cell_type": "markdown",
   "metadata": {},
   "source": [
    "# Submission Guidelines\n",
    "\n",
    "## Part (a) Guidelines\n",
    "\n",
    "Two data items are required in the \"Data Files\" section of the [upload form]. The data items should be labeled as `spatial` and `temporal` in the `Short name of data` box. The 2D radio button should be checked and the columns corresponding to the x-axis (either $\\Delta t$ or $\\Delta x$) and the y-axis ($e_{L2}$) should be labeled correctly for each CSV file. The CSV file for the spatial data should have the form\n",
    "\n",
    "```\n",
    "mesh_size,L2_error\n",
    "0.002604167,2.55E-06\n",
    "0.00390625,6.26E-06\n",
    "...\n",
    "```\n",
    "\n",
    "and the CSV file for the temporal data should have the form\n",
    "\n",
    "```\n",
    "time_step,L2_error\n",
    "5.00E-04,5.80162E-06\n",
    "4.00E-04,4.69709E-06\n",
    "...\n",
    "\n",
    "```\n",
    "\n",
    "\n",
    "## Parts (b) and (c) Guidelines\n",
    "\n",
    "Two data items are required in the \"Data Files\" section of the [upload form]. The data items should be labeled as `cost` and `time` in the `Short name of data` box. The 2D radio button should be checked and the columns corresponding to the x-axis ($e_{L2}$) and the y-axis (either $F_{\\text{cost}}$ or $t_{\\text{wall}}$) should be labeled correctly for each CSV file. The CSV file for the cost data should have the form\n",
    "\n",
    "```\n",
    "cores,wall_time,memory,error,cost\n",
    "1,1.35,25800,0.024275131,1.755\n",
    "1,4.57,39400,0.010521502,5.941\n",
    "...\n",
    "```\n",
    "\n",
    "Only one CSV file is required with the same link in both data sections.\n",
    "\n",
    "[upload form]: ../../simulations/upload_form/"
   ]
  },
  {
   "cell_type": "markdown",
   "metadata": {},
   "source": [
    "# Results\n",
    "Results from this benchmark problem are displayed on the [simulation result page]({{ site.baseurl }}/simulations) for different codes."
   ]
  },
  {
   "cell_type": "markdown",
   "metadata": {},
   "source": [
    "# Feedback\n",
    "Feedback on this benchmark problem is appreciated. If you have questions, comments, or seek clarification, please contact the [CHiMaD phase field community]({{ site.baseurl }}/community/) through the [Gitter chat channel]({{ site.links.chat }}) or by [email]({{ site.baseurl }}/mailing_list/). If you found an error, please file an [issue on GitHub]({{ site.links.github }}/issues/new)."
   ]
  },
  {
   "cell_type": "markdown",
   "metadata": {
    "collapsed": true
   },
   "source": [
    "# Appendix\n",
    "\n",
    "## Computer algebra systems\n",
    "Rigorous verification of software frameworks using MMS requires posing the equation and manufacturing the solution with as much complexity as possible. This can be straight-forward, but interesting equations produce complicated source terms. To streamline the MMS workflow, it is strongly recommended that you use a CAS such as SymPy, Maple, or Mathematica to generate source equations and turn it into executable code automatically. For accessibility, we will use [SymPy](http://www.sympy.org/), but so long as vector calculus is supported, CAS will do."
   ]
  },
  {
   "cell_type": "markdown",
   "metadata": {},
   "source": [
    "## Source term"
   ]
  },
  {
   "cell_type": "code",
   "execution_count": 5,
   "metadata": {},
   "outputs": [
    {
     "name": "stdout",
     "output_type": "stream",
     "text": [
      "alpha = A1*t*sin(B1*x) + A2*sin(B2*x + C2*t) + 0.25 \n",
      "\n",
      "eta = -0.5*tanh(sqrt(2)*(-A1*t*sin(B1*x) - A2*sin(B2*x + C2*t) + y - 0.25)/(2*sqrt(kappa))) + 0.5 \n",
      "\n",
      "eta0 = -0.5*tanh(sqrt(2)*(-A2*sin(B2*x) + y - 0.25)/(2*sqrt(kappa))) + 0.5 \n",
      "\n",
      "S = -(tanh(sqrt(2)*(A1*t*sin(B1*x) + A2*sin(B2*x + C2*t) - y + 0.25)/(2*sqrt(kappa)))**2 - 1)*(0.5*sqrt(kappa)*((A1*B1*t*cos(B1*x) + A2*B2*cos(B2*x + C2*t))**2 + 1)*tanh(sqrt(2)*(A1*t*sin(B1*x) + A2*sin(B2*x + C2*t) - y + 0.25)/(2*sqrt(kappa))) - 0.5*sqrt(kappa)*tanh(sqrt(2)*(A1*t*sin(B1*x) + A2*sin(B2*x + C2*t) - y + 0.25)/(2*sqrt(kappa))) + 0.25*sqrt(2)*kappa*(A1*B1**2*t*sin(B1*x) + A2*B2**2*sin(B2*x + C2*t)) + 0.25*sqrt(2)*(A1*sin(B1*x) + A2*C2*cos(B2*x + C2*t)))/sqrt(kappa)\n"
     ]
    }
   ],
   "source": [
    "# Sympy code to generate expressions for PFHub Problem 7 (MMS)\n",
    "\n",
    "from sympy import symbols, simplify\n",
    "from sympy import sin, cos, cosh, tanh, sqrt\n",
    "from sympy.physics.vector import divergence, gradient, ReferenceFrame, time_derivative\n",
    "from sympy.utilities.codegen import codegen\n",
    "from sympy.abc import kappa, S, x, y, t\n",
    "\n",
    "# Spatial coordinates: x=R[0], y=R[1], z=R[2]\n",
    "R = ReferenceFrame('R')\n",
    "\n",
    "# sinusoid amplitudes\n",
    "A1, A2 = symbols('A1 A2')\n",
    "B1, B2 = symbols('B1 B2')\n",
    "C2 = symbols('C2')\n",
    "\n",
    "# Define interface offset (alpha)\n",
    "alpha = 0.25 + A1 * t * sin(B1 * R[0]) \\\n",
    "             + A2     * sin(B2 * R[0] + C2 * t)\n",
    "\n",
    "# Define the solution equation (eta)\n",
    "eta = 0.5 * (1 - tanh((R[1] - alpha) / sqrt(2*kappa)))\n",
    "\n",
    "# Compute the source term from the equation of motion\n",
    "source = simplify(time_derivative(eta, R)\n",
    "             + 4 * eta * (eta - 1) * (eta - 1/2)\n",
    "             - kappa * divergence(gradient(eta, R), R))\n",
    "\n",
    "# Replace R[i] with (x, y)\n",
    "alpha = alpha.subs({R[0]: x, R[1]: y})\n",
    "eta = eta.subs({R[0]: x, R[1]: y})\n",
    "eta0 = eta.subs(t, 0)\n",
    "source = source.subs({R[0]: x, R[1]: y})\n",
    "\n",
    "print(\"alpha =\", alpha, \"\\n\")\n",
    "print(\"eta =\", eta,     \"\\n\")\n",
    "print(\"eta0 =\", eta0,  \"\\n\")\n",
    "print(\"S =\", source)"
   ]
  },
  {
   "cell_type": "markdown",
   "metadata": {},
   "source": [
    "## Code"
   ]
  },
  {
   "cell_type": "markdown",
   "metadata": {},
   "source": [
    "### Python\n",
    "\n",
    "Copy the first cell under Source Term directly into your program.\n",
    "For a performance boost, convert the expressions into lambda functions:\n",
    "\n",
    "```python\n",
    "from sympy.utilities.lambdify import lambdify\n",
    "\n",
    "apy = lambdify([x, y], alpha, modules='sympy')\n",
    "epy = lambdify([x, y], eta,   modules='sympy')\n",
    "ipy = lambdify([x, y], eta0,  modules='sympy')\n",
    "Spy = lambdify([x, y], S,     modules='sympy')\n",
    "```\n",
    "\n",
    "> Note: Click \"Code Toggle\" at the top of the page to see the Python expressions."
   ]
  },
  {
   "cell_type": "markdown",
   "metadata": {},
   "source": [
    "### C"
   ]
  },
  {
   "cell_type": "code",
   "execution_count": 6,
   "metadata": {},
   "outputs": [
    {
     "name": "stdout",
     "output_type": "stream",
     "text": [
      "manufactured.h:\n",
      "\n",
      "/******************************************************************************\n",
      " *                       Code generated with sympy 1.2                        *\n",
      " *                                                                            *\n",
      " *              See http://www.sympy.org/ for more information.               *\n",
      " *                                                                            *\n",
      " *                        This file is part of 'PFHub'                        *\n",
      " ******************************************************************************/\n",
      "\n",
      "\n",
      "#ifndef PFHUB__MANUFACTURED__H\n",
      "#define PFHUB__MANUFACTURED__H\n",
      "\n",
      "double alpha(double A1, double A2, double B1, double B2, double C2, double t, double x);\n",
      "double eta(double A1, double A2, double B1, double B2, double C2, double kappa, double t, double x, double y);\n",
      "double eta0(double A1, double A2, double B1, double B2, double C2, double kappa, double t, double x, double y);\n",
      "double S(double S);\n",
      "\n",
      "#endif\n",
      "\n",
      "\n",
      "\n",
      "manufactured.c:\n",
      "\n",
      "/******************************************************************************\n",
      " *                       Code generated with sympy 1.2                        *\n",
      " *                                                                            *\n",
      " *              See http://www.sympy.org/ for more information.               *\n",
      " *                                                                            *\n",
      " *                        This file is part of 'PFHub'                        *\n",
      " ******************************************************************************/\n",
      "#include \"manufactured.h\"\n",
      "#include <math.h>\n",
      "\n",
      "double alpha(double A1, double A2, double B1, double B2, double C2, double t, double x) {\n",
      "\n",
      "   double alpha_result;\n",
      "   alpha_result = A1*t*sin(B1*x) + A2*sin(B2*x + C2*t) + 0.25;\n",
      "   return alpha_result;\n",
      "\n",
      "}\n",
      "\n",
      "double eta(double A1, double A2, double B1, double B2, double C2, double kappa, double t, double x, double y) {\n",
      "\n",
      "   double eta_result;\n",
      "   eta_result = -0.5*tanh((1.0/2.0)*M_SQRT2*(-A1*t*sin(B1*x) - A2*sin(B2*x + C2*t) + y - 0.25)/sqrt(kappa)) + 0.5;\n",
      "   return eta_result;\n",
      "\n",
      "}\n",
      "\n",
      "double eta0(double A1, double A2, double B1, double B2, double C2, double kappa, double t, double x, double y) {\n",
      "\n",
      "   double eta0_result;\n",
      "   eta0_result = -0.5*tanh((1.0/2.0)*M_SQRT2*(-A1*t*sin(B1*x) - A2*sin(B2*x + C2*t) + y - 0.25)/sqrt(kappa)) + 0.5;\n",
      "   return eta0_result;\n",
      "\n",
      "}\n",
      "\n",
      "double S(double S) {\n",
      "\n",
      "   double S_result;\n",
      "   S_result = S;\n",
      "   return S_result;\n",
      "\n",
      "}\n",
      "\n"
     ]
    }
   ],
   "source": [
    "[(c_name, code), (h_name, header)] = \\\n",
    "codegen([(\"alpha\", alpha),\n",
    "         (\"eta\",   eta),\n",
    "         (\"eta0\",  eta),\n",
    "         (\"S\",     S)],\n",
    "         language=\"C\",\n",
    "         prefix=\"manufactured\",\n",
    "         project=\"PFHub\")\n",
    "print(\"manufactured.h:\\n\")\n",
    "print(header)\n",
    "print(\"\\nmanufactured.c:\\n\")\n",
    "print(code)"
   ]
  },
  {
   "cell_type": "markdown",
   "metadata": {},
   "source": [
    "### Fortran"
   ]
  },
  {
   "cell_type": "code",
   "execution_count": 7,
   "metadata": {},
   "outputs": [
    {
     "name": "stdout",
     "output_type": "stream",
     "text": [
      "manufactured.f:\n",
      "\n",
      "!******************************************************************************\n",
      "!*                       Code generated with sympy 1.2                        *\n",
      "!*                                                                            *\n",
      "!*              See http://www.sympy.org/ for more information.               *\n",
      "!*                                                                            *\n",
      "!*                        This file is part of 'PFHub'                        *\n",
      "!******************************************************************************\n",
      "\n",
      "REAL*8 function alpha(A1, A2, B1, B2, C2, t, x)\n",
      "implicit none\n",
      "REAL*8, intent(in) :: A1\n",
      "REAL*8, intent(in) :: A2\n",
      "REAL*8, intent(in) :: B1\n",
      "REAL*8, intent(in) :: B2\n",
      "REAL*8, intent(in) :: C2\n",
      "REAL*8, intent(in) :: t\n",
      "REAL*8, intent(in) :: x\n",
      "\n",
      "alpha = A1*t*sin(B1*x) + A2*sin(B2*x + C2*t) + 0.25d0\n",
      "\n",
      "end function\n",
      "\n",
      "REAL*8 function eta(A1, A2, B1, B2, C2, kappa, t, x, y)\n",
      "implicit none\n",
      "REAL*8, intent(in) :: A1\n",
      "REAL*8, intent(in) :: A2\n",
      "REAL*8, intent(in) :: B1\n",
      "REAL*8, intent(in) :: B2\n",
      "REAL*8, intent(in) :: C2\n",
      "REAL*8, intent(in) :: kappa\n",
      "REAL*8, intent(in) :: t\n",
      "REAL*8, intent(in) :: x\n",
      "REAL*8, intent(in) :: y\n",
      "\n",
      "eta = -0.5d0*tanh(0.70710678118654752d0*kappa**(-0.5d0)*(-A1*t*sin(B1*x &\n",
      "      ) - A2*sin(B2*x + C2*t) + y - 0.25d0)) + 0.5d0\n",
      "\n",
      "end function\n",
      "\n",
      "REAL*8 function eta0(A1, A2, B1, B2, C2, kappa, t, x, y)\n",
      "implicit none\n",
      "REAL*8, intent(in) :: A1\n",
      "REAL*8, intent(in) :: A2\n",
      "REAL*8, intent(in) :: B1\n",
      "REAL*8, intent(in) :: B2\n",
      "REAL*8, intent(in) :: C2\n",
      "REAL*8, intent(in) :: kappa\n",
      "REAL*8, intent(in) :: t\n",
      "REAL*8, intent(in) :: x\n",
      "REAL*8, intent(in) :: y\n",
      "\n",
      "eta0 = -0.5d0*tanh(0.70710678118654752d0*kappa**(-0.5d0)*(-A1*t*sin(B1*x &\n",
      "      ) - A2*sin(B2*x + C2*t) + y - 0.25d0)) + 0.5d0\n",
      "\n",
      "end function\n",
      "\n",
      "REAL*8 function S(S)\n",
      "implicit none\n",
      "REAL*8, intent(in) :: S\n",
      "\n",
      "S = S\n",
      "\n",
      "end function\n",
      "\n"
     ]
    }
   ],
   "source": [
    "[(f_name, code), (f_name, header)] = \\\n",
    "codegen([(\"alpha\", alpha),\n",
    "         (\"eta\",   eta),\n",
    "         (\"eta0\",  eta),\n",
    "         (\"S\",     S)],\n",
    "         language=\"f95\",\n",
    "         prefix=\"manufactured\",\n",
    "         project=\"PFHub\")\n",
    "\n",
    "print(\"manufactured.f:\\n\")\n",
    "print(code)"
   ]
  },
  {
   "cell_type": "markdown",
   "metadata": {},
   "source": [
    "### Julia"
   ]
  },
  {
   "cell_type": "code",
   "execution_count": 8,
   "metadata": {},
   "outputs": [
    {
     "name": "stdout",
     "output_type": "stream",
     "text": [
      "manufactured.jl:\n",
      "\n",
      "#   Code generated with sympy 1.2\n",
      "#\n",
      "#   See http://www.sympy.org/ for more information.\n",
      "#\n",
      "#   This file is part of 'PFHub'\n",
      "\n",
      "function alpha(A1, A2, B1, B2, C2, t, x)\n",
      "\n",
      "    out1 = A1.*t.*sin(B1.*x) + A2.*sin(B2.*x + C2.*t) + 0.25\n",
      "\n",
      "    return out1\n",
      "end\n",
      "\n",
      "function eta(A1, A2, B1, B2, C2, kappa, t, x, y)\n",
      "\n",
      "    out1 = -0.5*tanh(sqrt(2)*(-A1.*t.*sin(B1.*x) - A2.*sin(B2.*x + C2.*t) + y - 0.25)./(2*sqrt(kappa))) + 0.5\n",
      "\n",
      "    return out1\n",
      "end\n",
      "\n",
      "function eta0(A1, A2, B1, B2, C2, kappa, t, x, y)\n",
      "\n",
      "    out1 = -0.5*tanh(sqrt(2)*(-A1.*t.*sin(B1.*x) - A2.*sin(B2.*x + C2.*t) + y - 0.25)./(2*sqrt(kappa))) + 0.5\n",
      "\n",
      "    return out1\n",
      "end\n",
      "\n",
      "function S(S)\n",
      "\n",
      "    out1 = S\n",
      "\n",
      "    return out1\n",
      "end\n",
      "\n"
     ]
    }
   ],
   "source": [
    "[(f_name, code)] = \\\n",
    "codegen([(\"alpha\", alpha),\n",
    "         (\"eta\",   eta),\n",
    "         (\"eta0\",  eta),\n",
    "         (\"S\",     S)],\n",
    "         language=\"julia\",\n",
    "         prefix=\"manufactured\",\n",
    "         project=\"PFHub\")\n",
    "\n",
    "print(\"manufactured.jl:\\n\")\n",
    "print(code)"
   ]
  },
  {
   "cell_type": "markdown",
   "metadata": {},
   "source": [
    "### Mathematica"
   ]
  },
  {
   "cell_type": "code",
   "execution_count": 9,
   "metadata": {},
   "outputs": [
    {
     "name": "stdout",
     "output_type": "stream",
     "text": [
      "alpha = A1*t*Sin[B1*x] + A2*Sin[B2*x + C2*t] + 0.25 \n",
      "\n",
      "eta = -0.5*Tanh[(1/2)*2^(1/2)*(-A1*t*Sin[B1*x] - A2*Sin[B2*x + C2*t] + y - 0.25)/kappa^(1/2)] + 0.5 \n",
      "\n",
      "eta0 = -0.5*Tanh[(1/2)*2^(1/2)*(-A2*Sin[B2*x] + y - 0.25)/kappa^(1/2)] + 0.5 \n",
      "\n",
      "S = -(Tanh[(1/2)*2^(1/2)*(A1*t*Sin[B1*x] + A2*Sin[B2*x + C2*t] - y + 0.25)/kappa^(1/2)]^2 - 1)*(0.5*kappa^(1/2)*((A1*B1*t*Cos[B1*x] + A2*B2*Cos[B2*x + C2*t])^2 + 1)*Tanh[(1/2)*2^(1/2)*(A1*t*Sin[B1*x] + A2*Sin[B2*x + C2*t] - y + 0.25)/kappa^(1/2)] - 0.5*kappa^(1/2)*Tanh[(1/2)*2^(1/2)*(A1*t*Sin[B1*x] + A2*Sin[B2*x + C2*t] - y + 0.25)/kappa^(1/2)] + 0.25*2^(1/2)*kappa*(A1*B1^2*t*Sin[B1*x] + A2*B2^2*Sin[B2*x + C2*t]) + 0.25*2^(1/2)*(A1*Sin[B1*x] + A2*C2*Cos[B2*x + C2*t]))/kappa^(1/2) \n",
      "\n"
     ]
    }
   ],
   "source": [
    "from sympy.printing import mathematica_code\n",
    "\n",
    "print(\"alpha =\", mathematica_code(alpha), \"\\n\")\n",
    "print(\"eta =\", mathematica_code(eta), \"\\n\")\n",
    "print(\"eta0 =\", mathematica_code(eta0), \"\\n\")\n",
    "print(\"S =\", mathematica_code(source), \"\\n\")"
   ]
  },
  {
   "cell_type": "markdown",
   "metadata": {},
   "source": [
    "### Matlab"
   ]
  },
  {
   "cell_type": "code",
   "execution_count": 10,
   "metadata": {},
   "outputs": [
    {
     "name": "stdout",
     "output_type": "stream",
     "text": [
      "manufactured.nb:\n",
      "\n",
      "alpha.m\n",
      "function out1 = alpha(A1, A2, B1, B2, C2, t, x)\n",
      "  %ALPHA  Autogenerated by sympy\n",
      "  %   Code generated with sympy 1.2\n",
      "  %\n",
      "  %   See http://www.sympy.org/ for more information.\n",
      "  %\n",
      "  %   This file is part of 'PFHub'\n",
      "\n",
      "  out1 = A1.*t.*sin(B1.*x) + A2.*sin(B2.*x + C2.*t) + 0.25;\n",
      "\n",
      "end\n",
      "\n",
      "function out1 = eta(A1, A2, B1, B2, C2, kappa, t, x, y)\n",
      "\n",
      "  out1 = -0.5*tanh(sqrt(2)*(-A1.*t.*sin(B1.*x) - A2.*sin(B2.*x + C2.*t) + y - 0.25)./(2*sqrt(kappa))) + 0.5;\n",
      "\n",
      "end\n",
      "\n",
      "function out1 = eta0(A1, A2, B1, B2, C2, kappa, t, x, y)\n",
      "\n",
      "  out1 = -0.5*tanh(sqrt(2)*(-A1.*t.*sin(B1.*x) - A2.*sin(B2.*x + C2.*t) + y - 0.25)./(2*sqrt(kappa))) + 0.5;\n",
      "\n",
      "end\n",
      "\n",
      "function out1 = S(S)\n",
      "\n",
      "  out1 = S;\n",
      "\n",
      "end\n",
      "\n"
     ]
    }
   ],
   "source": [
    "code = \\\n",
    "codegen([(\"alpha\", alpha),\n",
    "         (\"eta\",   eta),\n",
    "         (\"eta0\",  eta),\n",
    "         (\"S\",     S)],\n",
    "         language=\"octave\",\n",
    "         project=\"PFHub\")\n",
    "\n",
    "print(\"manufactured.nb:\\n\")\n",
    "for f in code[0]:\n",
    "    print(f)"
   ]
  }
 ],
 "metadata": {
  "anaconda-cloud": {},
  "kernelspec": {
   "display_name": "Python 3",
   "language": "python",
   "name": "python3"
  },
  "language_info": {
   "codemirror_mode": {
    "name": "ipython",
    "version": 3
   },
   "file_extension": ".py",
   "mimetype": "text/x-python",
   "name": "python",
   "nbconvert_exporter": "python",
   "pygments_lexer": "ipython3",
   "version": "3.6.4"
  },
  "toc": {
   "base_numbering": 1,
   "nav_menu": {},
   "number_sections": true,
   "sideBar": false,
   "skip_h1_title": false,
   "title_cell": "Table of Contents",
   "title_sidebar": "Contents",
   "toc_cell": true,
   "toc_position": {
    "height": "calc(100% - 180px)",
    "left": "10px",
    "top": "150px",
    "width": "320px"
   },
   "toc_section_display": false,
   "toc_window_display": false
  }
 },
 "nbformat": 4,
 "nbformat_minor": 2
}
